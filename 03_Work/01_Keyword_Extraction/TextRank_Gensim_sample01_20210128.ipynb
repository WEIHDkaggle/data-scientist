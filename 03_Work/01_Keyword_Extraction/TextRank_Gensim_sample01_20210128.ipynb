{
  "nbformat": 4,
  "nbformat_minor": 0,
  "metadata": {
    "colab": {
      "name": "TextRank_Gensim_sample01_20210128.ipynb",
      "provenance": []
    },
    "kernelspec": {
      "name": "python3",
      "display_name": "Python 3"
    }
  },
  "cells": [
    {
      "cell_type": "code",
      "metadata": {
        "id": "ozpF4Hzb05NT"
      },
      "source": [
        "# https://rare-technologies.com/text-summarization-with-gensim/"
      ],
      "execution_count": null,
      "outputs": []
    },
    {
      "cell_type": "code",
      "metadata": {
        "colab": {
          "base_uri": "https://localhost:8080/"
        },
        "id": "bVPgxWZg0_iw",
        "outputId": "d0c3b933-8827-4a4e-d55b-1f4c774c66ae"
      },
      "source": [
        "import logging\r\n",
        "logging.basicConfig(format='%(asctime)s : %(levelname)s : %(message)s', level=logging.INFO)\r\n",
        "\r\n",
        "from gensim.summarization import summarize\r\n",
        "from gensim.summarization import keywords"
      ],
      "execution_count": 1,
      "outputs": [
        {
          "output_type": "stream",
          "text": [
            "2021-01-27 21:52:27,501 : INFO : 'pattern' package not found; tag filters are not available for English\n"
          ],
          "name": "stderr"
        }
      ]
    },
    {
      "cell_type": "code",
      "metadata": {
        "colab": {
          "base_uri": "https://localhost:8080/"
        },
        "id": "pB-z_e470_k3",
        "outputId": "b7cf6f74-86ca-42ea-eb7a-4c86fa131a81"
      },
      "source": [
        "# text = \"Thomas A. Anderson is a man living two lives. By day he is an \" + \\\r\n",
        "#     \"average computer programmer and by night a hacker known as \" + \\\r\n",
        "#     \"Neo. Neo has always questioned his reality, but the truth is \" + \\\r\n",
        "#     \"far beyond his imagination. Neo finds himself targeted by the \" + \\\r\n",
        "#     \"police when he is contacted by Morpheus, a legendary computer \" + \\\r\n",
        "#     \"hacker branded a terrorist by the government. Morpheus awakens \" + \\\r\n",
        "#     \"Neo to the real world, a ravaged wasteland where most of \" + \\\r\n",
        "#     \"humanity have been captured by a race of machines that live \" + \\\r\n",
        "#     \"off of the humans' body heat and electrochemical energy and \" + \\\r\n",
        "#     \"who imprison their minds within an artificial reality known as \" + \\\r\n",
        "#     \"the Matrix. As a rebel against the machines, Neo must return to \" + \\\r\n",
        "#     \"the Matrix and confront the agents: super-powerful computer \" + \\\r\n",
        "#     \"programs devoted to snuffing out Neo and the entire human \" + \\\r\n",
        "#     \"rebellion. \"\r\n",
        "text = [\"Thomas A. Anderson is a man living two lives. By day he is an \" ,\r\n",
        "    \"average computer programmer and by night a hacker known as \" ,\r\n",
        "    \"Neo. Neo has always questioned his reality, but the truth is \" ,\r\n",
        "    \"far beyond his imagination. Neo finds himself targeted by the \" ,\r\n",
        "    \"police when he is contacted by Morpheus, a legendary computer \" ,\r\n",
        "    \"hacker branded a terrorist by the government. Morpheus awakens \" ,\r\n",
        "    \"Neo to the real world, a ravaged wasteland where most of \" ,\r\n",
        "    \"humanity have been captured by a race of machines that live \" ,\r\n",
        "    \"off of the humans' body heat and electrochemical energy and \" ,\r\n",
        "    \"who imprison their minds within an artificial reality known as \" ,\r\n",
        "    \"the Matrix. As a rebel against the machines, Neo must return to \" ,\r\n",
        "    \"the Matrix and confront the agents: super-powerful computer \" ,\r\n",
        "    \"programs devoted to snuffing out Neo and the entire human \" ,\r\n",
        "    \"rebellion. \" \r\n",
        "    ]\r\n",
        "\r\n",
        "print ('Input text:')\r\n",
        "print (text)"
      ],
      "execution_count": 5,
      "outputs": [
        {
          "output_type": "stream",
          "text": [
            "Input text:\n",
            "['Thomas A. Anderson is a man living two lives. By day he is an ', 'average computer programmer and by night a hacker known as ', 'Neo. Neo has always questioned his reality, but the truth is ', 'far beyond his imagination. Neo finds himself targeted by the ', 'police when he is contacted by Morpheus, a legendary computer ', 'hacker branded a terrorist by the government. Morpheus awakens ', 'Neo to the real world, a ravaged wasteland where most of ', 'humanity have been captured by a race of machines that live ', \"off of the humans' body heat and electrochemical energy and \", 'who imprison their minds within an artificial reality known as ', 'the Matrix. As a rebel against the machines, Neo must return to ', 'the Matrix and confront the agents: super-powerful computer ', 'programs devoted to snuffing out Neo and the entire human ', 'rebellion. ']\n"
          ],
          "name": "stdout"
        }
      ]
    },
    {
      "cell_type": "code",
      "metadata": {
        "colab": {
          "base_uri": "https://localhost:8080/"
        },
        "id": "NrGoSL0c0_nK",
        "outputId": "2b937cfc-3477-4e7e-92ab-bc3b2d4f3114"
      },
      "source": [
        "print ('Summary:')\r\n",
        "print (summarize(' '.join (text)))"
      ],
      "execution_count": 7,
      "outputs": [
        {
          "output_type": "stream",
          "text": [
            "2021-01-27 21:54:59,656 : WARNING : Input text is expected to have at least 10 sentences.\n",
            "2021-01-27 21:54:59,657 : INFO : adding document #0 to Dictionary(0 unique tokens: [])\n",
            "2021-01-27 21:54:59,658 : INFO : built Dictionary(53 unique tokens: ['thoma', 'anderson', 'live', 'man', 'averag']...) from 6 documents (total 68 corpus positions)\n",
            "2021-01-27 21:54:59,660 : WARNING : Input corpus is expected to have at least 10 documents.\n"
          ],
          "name": "stderr"
        },
        {
          "output_type": "stream",
          "text": [
            "Summary:\n",
            "Morpheus awakens  Neo to the real world, a ravaged wasteland where most of  humanity have been captured by a race of machines that live  off of the humans' body heat and electrochemical energy and  who imprison their minds within an artificial reality known as  the Matrix.\n"
          ],
          "name": "stdout"
        }
      ]
    },
    {
      "cell_type": "code",
      "metadata": {
        "colab": {
          "base_uri": "https://localhost:8080/"
        },
        "id": "mBUo3a7x0_pP",
        "outputId": "3debeb90-5806-4f45-b92a-ff2230daa29f"
      },
      "source": [
        "#print (summarize(' '.join (text), split=True))\r\n",
        "print (summarize(' '.join (text), split=False))"
      ],
      "execution_count": 25,
      "outputs": [
        {
          "output_type": "stream",
          "text": [
            "2021-01-27 21:58:56,789 : WARNING : Input text is expected to have at least 10 sentences.\n",
            "2021-01-27 21:58:56,794 : INFO : adding document #0 to Dictionary(0 unique tokens: [])\n",
            "2021-01-27 21:58:56,795 : INFO : built Dictionary(53 unique tokens: ['thoma', 'anderson', 'live', 'man', 'averag']...) from 6 documents (total 68 corpus positions)\n",
            "2021-01-27 21:58:56,797 : WARNING : Input corpus is expected to have at least 10 documents.\n"
          ],
          "name": "stderr"
        },
        {
          "output_type": "stream",
          "text": [
            "Morpheus awakens  Neo to the real world, a ravaged wasteland where most of  humanity have been captured by a race of machines that live  off of the humans' body heat and electrochemical energy and  who imprison their minds within an artificial reality known as  the Matrix.\n"
          ],
          "name": "stdout"
        }
      ]
    },
    {
      "cell_type": "code",
      "metadata": {
        "colab": {
          "base_uri": "https://localhost:8080/"
        },
        "id": "nPJ-Koey1LbZ",
        "outputId": "eef0d594-8501-48a4-ec89-dd57a7af6468"
      },
      "source": [
        "print ('Summary:')\r\n",
        "print (summarize(' '.join (text), ratio=0.5))"
      ],
      "execution_count": 9,
      "outputs": [
        {
          "output_type": "stream",
          "text": [
            "2021-01-27 21:55:32,671 : WARNING : Input text is expected to have at least 10 sentences.\n",
            "2021-01-27 21:55:32,673 : INFO : adding document #0 to Dictionary(0 unique tokens: [])\n",
            "2021-01-27 21:55:32,674 : INFO : built Dictionary(53 unique tokens: ['thoma', 'anderson', 'live', 'man', 'averag']...) from 6 documents (total 68 corpus positions)\n",
            "2021-01-27 21:55:32,676 : WARNING : Input corpus is expected to have at least 10 documents.\n"
          ],
          "name": "stderr"
        },
        {
          "output_type": "stream",
          "text": [
            "Summary:\n",
            "By day he is an  average computer programmer and by night a hacker known as  Neo. Neo has always questioned his reality, but the truth is  far beyond his imagination.\n",
            "Morpheus awakens  Neo to the real world, a ravaged wasteland where most of  humanity have been captured by a race of machines that live  off of the humans' body heat and electrochemical energy and  who imprison their minds within an artificial reality known as  the Matrix.\n",
            "As a rebel against the machines, Neo must return to  the Matrix and confront the agents: super-powerful computer  programs devoted to snuffing out Neo and the entire human  rebellion.\n"
          ],
          "name": "stdout"
        }
      ]
    },
    {
      "cell_type": "code",
      "metadata": {
        "colab": {
          "base_uri": "https://localhost:8080/"
        },
        "id": "ba0RrCAR1Lds",
        "outputId": "670ab394-4dd0-4ca2-cb31-592584584e36"
      },
      "source": [
        "print ('Summary:')\r\n",
        "print (summarize(' '.join (text), word_count=40))"
      ],
      "execution_count": 12,
      "outputs": [
        {
          "output_type": "stream",
          "text": [
            "2021-01-27 21:55:51,152 : WARNING : Input text is expected to have at least 10 sentences.\n",
            "2021-01-27 21:55:51,154 : INFO : adding document #0 to Dictionary(0 unique tokens: [])\n",
            "2021-01-27 21:55:51,157 : INFO : built Dictionary(53 unique tokens: ['thoma', 'anderson', 'live', 'man', 'averag']...) from 6 documents (total 68 corpus positions)\n",
            "2021-01-27 21:55:51,158 : WARNING : Input corpus is expected to have at least 10 documents.\n"
          ],
          "name": "stderr"
        },
        {
          "output_type": "stream",
          "text": [
            "Summary:\n",
            "Morpheus awakens  Neo to the real world, a ravaged wasteland where most of  humanity have been captured by a race of machines that live  off of the humans' body heat and electrochemical energy and  who imprison their minds within an artificial reality known as  the Matrix.\n"
          ],
          "name": "stdout"
        }
      ]
    },
    {
      "cell_type": "code",
      "metadata": {
        "colab": {
          "base_uri": "https://localhost:8080/"
        },
        "id": "CXyhDrTQ1ONG",
        "outputId": "bf3293c5-338a-4ff7-db83-2f6b6ec0c619"
      },
      "source": [
        "print ('Keywords:')\r\n",
        "print (keywords(' '.join (text)))"
      ],
      "execution_count": 13,
      "outputs": [
        {
          "output_type": "stream",
          "text": [
            "Keywords:\n",
            "humanity\n",
            "human\n",
            "neo\n",
            "humans body\n",
            "super\n",
            "hacker\n",
            "reality\n"
          ],
          "name": "stdout"
        }
      ]
    },
    {
      "cell_type": "code",
      "metadata": {
        "colab": {
          "base_uri": "https://localhost:8080/"
        },
        "id": "vY-620eP1OPK",
        "outputId": "65956bb6-78f0-4b3c-c31a-b69b0494425f"
      },
      "source": [
        "print ('Keywords:')\r\n",
        "print (keywords(' '.join (text), ratio=0.1))"
      ],
      "execution_count": 21,
      "outputs": [
        {
          "output_type": "stream",
          "text": [
            "Keywords:\n",
            "humanity\n",
            "humans\n",
            "human\n",
            "neo\n",
            "super\n"
          ],
          "name": "stdout"
        }
      ]
    }
  ]
}